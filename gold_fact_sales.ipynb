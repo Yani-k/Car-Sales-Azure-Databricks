{
 "cells": [
  {
   "cell_type": "markdown",
   "metadata": {
    "application/vnd.databricks.v1+cell": {
     "cellMetadata": {},
     "inputWidgets": {},
     "nuid": "c4cd49d0-9ce9-4746-a833-05ca789a6367",
     "showTitle": false,
     "tableResultSettingsMap": {},
     "title": ""
    }
   },
   "source": [
    "# Fact Table"
   ]
  },
  {
   "cell_type": "code",
   "execution_count": 0,
   "metadata": {
    "application/vnd.databricks.v1+cell": {
     "cellMetadata": {},
     "inputWidgets": {},
     "nuid": "82e2d8e3-1e6f-4429-a89f-a4d20df86fb1",
     "showTitle": false,
     "tableResultSettingsMap": {},
     "title": ""
    }
   },
   "outputs": [],
   "source": [
    "df_silver =  spark.sql(\"SELECT * FROM PARQUET.`abfss://silver@carsaleslake.dfs.core.windows.net/carsales`\")"
   ]
  },
  {
   "cell_type": "code",
   "execution_count": 0,
   "metadata": {
    "application/vnd.databricks.v1+cell": {
     "cellMetadata": {},
     "inputWidgets": {},
     "nuid": "cb482ae4-1b49-40dc-9ce9-20bd08d453ee",
     "showTitle": false,
     "tableResultSettingsMap": {},
     "title": ""
    }
   },
   "outputs": [],
   "source": [
    "df_silver.display()"
   ]
  },
  {
   "cell_type": "markdown",
   "metadata": {
    "application/vnd.databricks.v1+cell": {
     "cellMetadata": {},
     "inputWidgets": {},
     "nuid": "f6a8bbec-b730-492d-9eb2-137acd7963a5",
     "showTitle": false,
     "tableResultSettingsMap": {},
     "title": ""
    }
   },
   "source": [
    "### Reading all DIMS"
   ]
  },
  {
   "cell_type": "code",
   "execution_count": 0,
   "metadata": {
    "application/vnd.databricks.v1+cell": {
     "cellMetadata": {},
     "inputWidgets": {},
     "nuid": "5f7f1808-20d0-4377-99ab-3bdbde9f4cbf",
     "showTitle": false,
     "tableResultSettingsMap": {},
     "title": ""
    }
   },
   "outputs": [],
   "source": [
    "df_dealer = spark.sql(\"SELECT * FROM cars_catalog.gold.dim_dealer\")\n",
    "df_branch = spark.sql(\"SELECT * FROM cars_catalog.gold.dim_branch\")\n",
    "df_model = spark.sql(\"SELECT * FROM cars_catalog.gold.dim_model\")\n",
    "df_date = spark.sql(\"SELECT * FROM cars_catalog.gold.dim_date\")"
   ]
  },
  {
   "cell_type": "code",
   "execution_count": 0,
   "metadata": {
    "application/vnd.databricks.v1+cell": {
     "cellMetadata": {},
     "inputWidgets": {},
     "nuid": "d58b775e-a976-4732-860f-c2608fbd309b",
     "showTitle": false,
     "tableResultSettingsMap": {},
     "title": ""
    }
   },
   "outputs": [],
   "source": [
    "df_fact = df_silver.join(df_branch, df_silver['Branch_ID'] == df_branch['Branch_ID'], how='left')\\\n",
    "    .join(df_dealer, df_silver['Dealer_ID'] == df_dealer['Dealer_ID'], how='left')\\\n",
    "    .join(df_model, df_silver['Model_ID'] == df_model['Model_ID'], how='left')\\\n",
    "    .join(df_date, df_silver['Date_ID'] == df_date['Date_ID'], how='left')\\\n",
    "    .select(df_silver['Revenue'], df_silver['Units_Sold'], df_silver['RevPerUnit'], df_branch['dim_branch_key'], df_dealer['dim_dealer_key'], df_model['dim_model_key'], df_date['dim_date_key'])"
   ]
  },
  {
   "cell_type": "code",
   "execution_count": 0,
   "metadata": {
    "application/vnd.databricks.v1+cell": {
     "cellMetadata": {},
     "inputWidgets": {},
     "nuid": "2d846a50-642c-48ca-8b73-a43794c932bc",
     "showTitle": false,
     "tableResultSettingsMap": {},
     "title": ""
    }
   },
   "outputs": [],
   "source": [
    "df_fact.display()"
   ]
  },
  {
   "cell_type": "code",
   "execution_count": 0,
   "metadata": {
    "application/vnd.databricks.v1+cell": {
     "cellMetadata": {},
     "inputWidgets": {},
     "nuid": "51719f83-cf45-48b7-b697-843df8bf4f01",
     "showTitle": false,
     "tableResultSettingsMap": {},
     "title": ""
    }
   },
   "outputs": [],
   "source": [
    "from delta.tables import DeltaTable"
   ]
  },
  {
   "cell_type": "code",
   "execution_count": 0,
   "metadata": {
    "application/vnd.databricks.v1+cell": {
     "cellMetadata": {},
     "inputWidgets": {},
     "nuid": "a71efd40-603d-434c-bd91-2d345c17a260",
     "showTitle": false,
     "tableResultSettingsMap": {},
     "title": ""
    }
   },
   "outputs": [],
   "source": [
    "if spark.catalog.tableExists('factsales'):\n",
    "    deltab1 = DeltaTable.forName(spark, 'cars_catalog.gold.factsales')\n",
    "\n",
    "    deltab1.alias('trg').merge(df_fact.alias('src'), \"trg.dim_branch_key = src.dim_branch_key AND trg.dim_dealer_key = src.dim_dealer_key AND trg.dim_model_key = src.dim_model_key AND trg.dim_date_key = src.dim_date_key\")\\\n",
    "        .whenMatchedUpdateAll()\\\n",
    "            .whenNotMatchedInsertAll()\\\n",
    "                .execute()\n",
    "else:\n",
    "    df_fact.write.format('delta')\\\n",
    "        .mode('Overwrite')\\\n",
    "            .option(\"path\",\"abfss://gold@carsaleslake.dfs.core.windows.net/factsales\")\\\n",
    "                .saveAsTable('cars_catalog.gold.factsales')"
   ]
  },
  {
   "cell_type": "code",
   "execution_count": 0,
   "metadata": {
    "application/vnd.databricks.v1+cell": {
     "cellMetadata": {},
     "inputWidgets": {},
     "nuid": "03d602a0-8380-4f9f-be61-49dd06bc1fcf",
     "showTitle": false,
     "tableResultSettingsMap": {},
     "title": ""
    }
   },
   "outputs": [],
   "source": [
    "%sql\n",
    "select * from cars_catalog.gold.factsales"
   ]
  }
 ],
 "metadata": {
  "application/vnd.databricks.v1+notebook": {
   "computePreferences": null,
   "dashboards": [],
   "environmentMetadata": null,
   "language": "python",
   "notebookMetadata": {
    "pythonIndentUnit": 4
   },
   "notebookName": "gold_fact_sales",
   "widgets": {}
  },
  "language_info": {
   "name": "python"
  }
 },
 "nbformat": 4,
 "nbformat_minor": 0
}